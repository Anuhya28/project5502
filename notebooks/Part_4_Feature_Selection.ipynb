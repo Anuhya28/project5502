{
  "nbformat": 4,
  "nbformat_minor": 0,
  "metadata": {
    "colab": {
      "provenance": []
    },
    "kernelspec": {
      "name": "python3",
      "display_name": "Python 3"
    },
    "language_info": {
      "name": "python"
    }
  },
  "cells": [
    {
      "cell_type": "markdown",
      "source": [
        "# Part 4 - Feature Selection"
      ],
      "metadata": {
        "id": "3zeC15Wmj7co"
      }
    },
    {
      "cell_type": "code",
      "source": [
        "# get data\n",
        "import pandas as pd\n",
        "\n",
        "# df = pd.read_csv('.../prepared_data.csv')\n",
        "df = pd.read_csv('/content/drive/MyDrive/Project CICD/make_me_data_science_v.csv')\n",
        "print(df.shape)\n",
        "print(df.info())\n",
        "df.head()"
      ],
      "metadata": {
        "colab": {
          "base_uri": "https://localhost:8080/",
          "height": 1000
        },
        "id": "P3PeZvm2g5Ra",
<<<<<<< HEAD
        "outputId": "1784230a-221c-48c4-b95f-62cb36d0cabc"
=======
        "outputId": "116effcb-fe9c-4b3f-ef52-b33ec79d2315"
>>>>>>> 3baf2be7218ba1b843824d2357c883b42d642797
      },
      "execution_count": null,
      "outputs": [
        {
          "output_type": "stream",
          "name": "stdout",
          "text": [
<<<<<<< HEAD
            "(1000, 43)\n",
            "<class 'pandas.core.frame.DataFrame'>\n",
            "RangeIndex: 1000 entries, 0 to 999\n",
            "Data columns (total 43 columns):\n",
=======
            "(1000, 44)\n",
            "<class 'pandas.core.frame.DataFrame'>\n",
            "RangeIndex: 1000 entries, 0 to 999\n",
            "Data columns (total 44 columns):\n",
>>>>>>> 3baf2be7218ba1b843824d2357c883b42d642797
            " #   Column                             Non-Null Count  Dtype  \n",
            "---  ------                             --------------  -----  \n",
            " 0   binary                             1000 non-null   int64  \n",
            " 1   given_name                         1000 non-null   float64\n",
            " 2   surname                            1000 non-null   float64\n",
            " 3   date_of_birth                      1000 non-null   float64\n",
            " 4   phone_number                       1000 non-null   float64\n",
            " 5   email                              1000 non-null   float64\n",
            " 6   address                            1000 non-null   float64\n",
            " 7   city                               1000 non-null   float64\n",
            " 8   state                              1000 non-null   float64\n",
            " 9   zipcode                            1000 non-null   float64\n",
<<<<<<< HEAD
            " 10  duplicate_2                        1000 non-null   float64\n",
            " 11  random label num 12                1000 non-null   float64\n",
            " 12  duplicate_1                        1000 non-null   float64\n",
            " 13  pd qcut3                           1000 non-null   float64\n",
            " 14  multicollinearity 3                1000 non-null   float64\n",
            " 15  random choice 7                    1000 non-null   float64\n",
            " 16  corr_feature_class                 1000 non-null   float64\n",
            " 17  multicollinearity 2                1000 non-null   float64\n",
            " 18  multicollinearity 4                1000 non-null   float64\n",
            " 19  multicollinearity 1                1000 non-null   float64\n",
            " 20  correlated w target 1              1000 non-null   float64\n",
            " 21  uniform corr 1                     1000 non-null   float64\n",
            " 22  target                             1000 non-null   float64\n",
            " 23  pd qcut1                           1000 non-null   int64  \n",
            " 24  outliers 2                         1000 non-null   float64\n",
            " 25  correlated w target 2              1000 non-null   float64\n",
            " 26  uniform corr 2                     1000 non-null   float64\n",
            " 27  random choice 2                    1000 non-null   int64  \n",
            " 28  outliers 1                         1000 non-null   float64\n",
            " 29  class                              1000 non-null   float64\n",
            " 30  scaling_combined                   1000 non-null   float64\n",
            " 31  random choice 4_North              1000 non-null   float64\n",
            " 32  random choice 4_South              1000 non-null   float64\n",
            " 33  random choice 4_West               1000 non-null   float64\n",
            " 34  semi_constant_1_q_const_0_1        1000 non-null   float64\n",
            " 35  semi_constant_1_q_const_0_2        1000 non-null   float64\n",
            " 36  random label num 3_label num lo 2  1000 non-null   float64\n",
            " 37  random label num 3_label num lo 3  1000 non-null   float64\n",
            " 38  pd qcut2_Q2                        1000 non-null   float64\n",
            " 39  pd qcut2_Q3                        1000 non-null   float64\n",
            " 40  pd qcut2_Q4                        1000 non-null   float64\n",
            " 41  semi_constant_2_q_const_0_1        1000 non-null   float64\n",
            " 42  semi_constant_2_q_const_0_2        1000 non-null   float64\n",
            "dtypes: float64(40), int64(3)\n",
            "memory usage: 336.1 KB\n",
=======
            " 10  target                             1000 non-null   float64\n",
            " 11  uniform corr 2                     1000 non-null   float64\n",
            " 12  random choice 2                    1000 non-null   int64  \n",
            " 13  multicollinearity 2                1000 non-null   float64\n",
            " 14  uniform corr 1                     1000 non-null   float64\n",
            " 15  multicollinearity 3                1000 non-null   float64\n",
            " 16  duplicate_2                        1000 non-null   float64\n",
            " 17  random choice 7                    1000 non-null   float64\n",
            " 18  pd qcut3                           1000 non-null   float64\n",
            " 19  informative_1                      1000 non-null   float64\n",
            " 20  random label num 14                1000 non-null   float64\n",
            " 21  multicollinearity 4                1000 non-null   float64\n",
            " 22  multicollinearity 1                1000 non-null   float64\n",
            " 23  outliers 1                         1000 non-null   float64\n",
            " 24  correlated w target 2              1000 non-null   float64\n",
            " 25  outliers 2                         1000 non-null   float64\n",
            " 26  pd qcut1                           1000 non-null   int64  \n",
            " 27  corr_feature_class                 1000 non-null   float64\n",
            " 28  correlated w target 1              1000 non-null   float64\n",
            " 29  class                              1000 non-null   float64\n",
            " 30  scaling_combined                   1000 non-null   float64\n",
            " 31  random label num 4_label num lo 2  1000 non-null   float64\n",
            " 32  random label num 4_label num lo 3  1000 non-null   float64\n",
            " 33  random label num 4_label num lo 4  1000 non-null   float64\n",
            " 34  pd qcut2_Q2                        1000 non-null   float64\n",
            " 35  pd qcut2_Q3                        1000 non-null   float64\n",
            " 36  pd qcut2_Q4                        1000 non-null   float64\n",
            " 37  random choice 4_North              1000 non-null   float64\n",
            " 38  random choice 4_South              1000 non-null   float64\n",
            " 39  random choice 4_West               1000 non-null   float64\n",
            " 40  semi_constant_1_q_const_0_1        1000 non-null   float64\n",
            " 41  semi_constant_1_q_const_0_2        1000 non-null   float64\n",
            " 42  semi_constant_2_q_const_0_1        1000 non-null   float64\n",
            " 43  semi_constant_2_q_const_0_2        1000 non-null   float64\n",
            "dtypes: float64(41), int64(3)\n",
            "memory usage: 343.9 KB\n",
>>>>>>> 3baf2be7218ba1b843824d2357c883b42d642797
            "None\n"
          ]
        },
        {
          "output_type": "execute_result",
          "data": {
            "text/plain": [
              "   binary  given_name  surname  date_of_birth  phone_number  email  address  \\\n",
<<<<<<< HEAD
              "0       0       0.002    0.001          0.001         0.001  0.001    0.557   \n",
              "1       0       0.001    0.009          0.001         0.001  0.102    0.001   \n",
              "2       0       0.006    0.215          0.001         0.001  0.001    0.001   \n",
              "3       1       0.002    0.001          0.001         0.001  0.001    0.001   \n",
              "4       0       0.317    0.002          0.001         0.001  0.001    0.557   \n",
              "\n",
              "    city  state  zipcode  ...  random choice 4_West  \\\n",
              "0  0.001  0.011    0.001  ...                   0.0   \n",
              "1  0.001  0.008    0.001  ...                   0.0   \n",
              "2  0.001  0.392    0.204  ...                   1.0   \n",
              "3  0.001  0.392    0.001  ...                   0.0   \n",
              "4  0.285  0.392    0.204  ...                   0.0   \n",
=======
              "0       0       0.007    0.001          0.502         0.201  0.302    0.001   \n",
              "1       1       0.014    0.001          0.001         0.001  0.001    0.001   \n",
              "2       1       0.014    0.003          0.502         0.001  0.001    0.291   \n",
              "3       0       0.007    0.002          0.001         0.001  0.001    0.291   \n",
              "4       0       0.016    0.318          0.001         0.201  0.302    0.001   \n",
              "\n",
              "    city  state  zipcode  ...  pd qcut2_Q2  pd qcut2_Q3  pd qcut2_Q4  \\\n",
              "0  0.001  0.571    0.001  ...          1.0          0.0          0.0   \n",
              "1  0.001  0.571    0.001  ...          0.0          1.0          0.0   \n",
              "2  0.108  0.571    0.155  ...          0.0          1.0          0.0   \n",
              "3  0.108  0.571    0.155  ...          0.0          0.0          1.0   \n",
              "4  0.001  0.571    0.001  ...          0.0          1.0          0.0   \n",
              "\n",
              "   random choice 4_North  random choice 4_South  random choice 4_West  \\\n",
              "0                    0.0                    0.0                   0.0   \n",
              "1                    0.0                    1.0                   0.0   \n",
              "2                    0.0                    1.0                   0.0   \n",
              "3                    1.0                    0.0                   0.0   \n",
              "4                    0.0                    1.0                   0.0   \n",
>>>>>>> 3baf2be7218ba1b843824d2357c883b42d642797
              "\n",
              "   semi_constant_1_q_const_0_1  semi_constant_1_q_const_0_2  \\\n",
              "0                          0.0                          0.0   \n",
              "1                          0.0                          0.0   \n",
              "2                          0.0                          0.0   \n",
              "3                          0.0                          0.0   \n",
              "4                          0.0                          0.0   \n",
              "\n",
<<<<<<< HEAD
              "   random label num 3_label num lo 2  random label num 3_label num lo 3  \\\n",
              "0                                1.0                                0.0   \n",
              "1                                0.0                                1.0   \n",
              "2                                0.0                                1.0   \n",
              "3                                1.0                                0.0   \n",
              "4                                0.0                                0.0   \n",
              "\n",
              "   pd qcut2_Q2  pd qcut2_Q3  pd qcut2_Q4  semi_constant_2_q_const_0_1  \\\n",
              "0          1.0          0.0          0.0                          0.0   \n",
              "1          0.0          1.0          0.0                          0.0   \n",
              "2          0.0          1.0          0.0                          0.0   \n",
              "3          0.0          0.0          1.0                          0.0   \n",
              "4          0.0          1.0          0.0                          0.0   \n",
              "\n",
              "   semi_constant_2_q_const_0_2  \n",
              "0                          0.0  \n",
              "1                          0.0  \n",
              "2                          0.0  \n",
              "3                          0.0  \n",
              "4                          0.0  \n",
              "\n",
              "[5 rows x 43 columns]"
            ],
            "text/html": [
              "\n",
              "  <div id=\"df-a539e1c3-b758-405a-92e4-009a1a915a38\" class=\"colab-df-container\">\n",
=======
              "   semi_constant_2_q_const_0_1  semi_constant_2_q_const_0_2  \n",
              "0                          0.0                          0.0  \n",
              "1                          0.0                          0.0  \n",
              "2                          0.0                          0.0  \n",
              "3                          0.0                          0.0  \n",
              "4                          0.0                          0.0  \n",
              "\n",
              "[5 rows x 44 columns]"
            ],
            "text/html": [
              "\n",
              "  <div id=\"df-647338a5-d14d-4902-9e4b-739e39dd2662\" class=\"colab-df-container\">\n",
>>>>>>> 3baf2be7218ba1b843824d2357c883b42d642797
              "    <div>\n",
              "<style scoped>\n",
              "    .dataframe tbody tr th:only-of-type {\n",
              "        vertical-align: middle;\n",
              "    }\n",
              "\n",
              "    .dataframe tbody tr th {\n",
              "        vertical-align: top;\n",
              "    }\n",
              "\n",
              "    .dataframe thead th {\n",
              "        text-align: right;\n",
              "    }\n",
              "</style>\n",
              "<table border=\"1\" class=\"dataframe\">\n",
              "  <thead>\n",
              "    <tr style=\"text-align: right;\">\n",
              "      <th></th>\n",
              "      <th>binary</th>\n",
              "      <th>given_name</th>\n",
              "      <th>surname</th>\n",
              "      <th>date_of_birth</th>\n",
              "      <th>phone_number</th>\n",
              "      <th>email</th>\n",
              "      <th>address</th>\n",
              "      <th>city</th>\n",
              "      <th>state</th>\n",
              "      <th>zipcode</th>\n",
              "      <th>...</th>\n",
<<<<<<< HEAD
              "      <th>random choice 4_West</th>\n",
              "      <th>semi_constant_1_q_const_0_1</th>\n",
              "      <th>semi_constant_1_q_const_0_2</th>\n",
              "      <th>random label num 3_label num lo 2</th>\n",
              "      <th>random label num 3_label num lo 3</th>\n",
              "      <th>pd qcut2_Q2</th>\n",
              "      <th>pd qcut2_Q3</th>\n",
              "      <th>pd qcut2_Q4</th>\n",
=======
              "      <th>pd qcut2_Q2</th>\n",
              "      <th>pd qcut2_Q3</th>\n",
              "      <th>pd qcut2_Q4</th>\n",
              "      <th>random choice 4_North</th>\n",
              "      <th>random choice 4_South</th>\n",
              "      <th>random choice 4_West</th>\n",
              "      <th>semi_constant_1_q_const_0_1</th>\n",
              "      <th>semi_constant_1_q_const_0_2</th>\n",
>>>>>>> 3baf2be7218ba1b843824d2357c883b42d642797
              "      <th>semi_constant_2_q_const_0_1</th>\n",
              "      <th>semi_constant_2_q_const_0_2</th>\n",
              "    </tr>\n",
              "  </thead>\n",
              "  <tbody>\n",
              "    <tr>\n",
              "      <th>0</th>\n",
              "      <td>0</td>\n",
<<<<<<< HEAD
              "      <td>0.002</td>\n",
              "      <td>0.001</td>\n",
              "      <td>0.001</td>\n",
              "      <td>0.001</td>\n",
              "      <td>0.001</td>\n",
              "      <td>0.557</td>\n",
              "      <td>0.001</td>\n",
              "      <td>0.011</td>\n",
              "      <td>0.001</td>\n",
              "      <td>...</td>\n",
              "      <td>0.0</td>\n",
              "      <td>0.0</td>\n",
              "      <td>0.0</td>\n",
              "      <td>1.0</td>\n",
              "      <td>0.0</td>\n",
              "      <td>1.0</td>\n",
=======
              "      <td>0.007</td>\n",
              "      <td>0.001</td>\n",
              "      <td>0.502</td>\n",
              "      <td>0.201</td>\n",
              "      <td>0.302</td>\n",
              "      <td>0.001</td>\n",
              "      <td>0.001</td>\n",
              "      <td>0.571</td>\n",
              "      <td>0.001</td>\n",
              "      <td>...</td>\n",
              "      <td>1.0</td>\n",
              "      <td>0.0</td>\n",
              "      <td>0.0</td>\n",
              "      <td>0.0</td>\n",
              "      <td>0.0</td>\n",
              "      <td>0.0</td>\n",
>>>>>>> 3baf2be7218ba1b843824d2357c883b42d642797
              "      <td>0.0</td>\n",
              "      <td>0.0</td>\n",
              "      <td>0.0</td>\n",
              "      <td>0.0</td>\n",
              "    </tr>\n",
              "    <tr>\n",
              "      <th>1</th>\n",
<<<<<<< HEAD
              "      <td>0</td>\n",
              "      <td>0.001</td>\n",
              "      <td>0.009</td>\n",
              "      <td>0.001</td>\n",
              "      <td>0.001</td>\n",
              "      <td>0.102</td>\n",
              "      <td>0.001</td>\n",
              "      <td>0.001</td>\n",
              "      <td>0.008</td>\n",
              "      <td>0.001</td>\n",
              "      <td>...</td>\n",
              "      <td>0.0</td>\n",
              "      <td>0.0</td>\n",
=======
              "      <td>1</td>\n",
              "      <td>0.014</td>\n",
              "      <td>0.001</td>\n",
              "      <td>0.001</td>\n",
              "      <td>0.001</td>\n",
              "      <td>0.001</td>\n",
              "      <td>0.001</td>\n",
              "      <td>0.001</td>\n",
              "      <td>0.571</td>\n",
              "      <td>0.001</td>\n",
              "      <td>...</td>\n",
              "      <td>0.0</td>\n",
              "      <td>1.0</td>\n",
>>>>>>> 3baf2be7218ba1b843824d2357c883b42d642797
              "      <td>0.0</td>\n",
              "      <td>0.0</td>\n",
              "      <td>1.0</td>\n",
              "      <td>0.0</td>\n",
<<<<<<< HEAD
              "      <td>1.0</td>\n",
=======
              "      <td>0.0</td>\n",
>>>>>>> 3baf2be7218ba1b843824d2357c883b42d642797
              "      <td>0.0</td>\n",
              "      <td>0.0</td>\n",
              "      <td>0.0</td>\n",
              "    </tr>\n",
              "    <tr>\n",
              "      <th>2</th>\n",
<<<<<<< HEAD
              "      <td>0</td>\n",
              "      <td>0.006</td>\n",
              "      <td>0.215</td>\n",
              "      <td>0.001</td>\n",
              "      <td>0.001</td>\n",
              "      <td>0.001</td>\n",
              "      <td>0.001</td>\n",
              "      <td>0.001</td>\n",
              "      <td>0.392</td>\n",
              "      <td>0.204</td>\n",
              "      <td>...</td>\n",
              "      <td>1.0</td>\n",
              "      <td>0.0</td>\n",
=======
              "      <td>1</td>\n",
              "      <td>0.014</td>\n",
              "      <td>0.003</td>\n",
              "      <td>0.502</td>\n",
              "      <td>0.001</td>\n",
              "      <td>0.001</td>\n",
              "      <td>0.291</td>\n",
              "      <td>0.108</td>\n",
              "      <td>0.571</td>\n",
              "      <td>0.155</td>\n",
              "      <td>...</td>\n",
              "      <td>0.0</td>\n",
              "      <td>1.0</td>\n",
>>>>>>> 3baf2be7218ba1b843824d2357c883b42d642797
              "      <td>0.0</td>\n",
              "      <td>0.0</td>\n",
              "      <td>1.0</td>\n",
              "      <td>0.0</td>\n",
<<<<<<< HEAD
              "      <td>1.0</td>\n",
=======
              "      <td>0.0</td>\n",
>>>>>>> 3baf2be7218ba1b843824d2357c883b42d642797
              "      <td>0.0</td>\n",
              "      <td>0.0</td>\n",
              "      <td>0.0</td>\n",
              "    </tr>\n",
              "    <tr>\n",
              "      <th>3</th>\n",
<<<<<<< HEAD
              "      <td>1</td>\n",
=======
              "      <td>0</td>\n",
              "      <td>0.007</td>\n",
>>>>>>> 3baf2be7218ba1b843824d2357c883b42d642797
              "      <td>0.002</td>\n",
              "      <td>0.001</td>\n",
              "      <td>0.001</td>\n",
              "      <td>0.001</td>\n",
<<<<<<< HEAD
              "      <td>0.001</td>\n",
              "      <td>0.001</td>\n",
              "      <td>0.001</td>\n",
              "      <td>0.392</td>\n",
              "      <td>0.001</td>\n",
              "      <td>...</td>\n",
              "      <td>0.0</td>\n",
              "      <td>0.0</td>\n",
              "      <td>0.0</td>\n",
=======
              "      <td>0.291</td>\n",
              "      <td>0.108</td>\n",
              "      <td>0.571</td>\n",
              "      <td>0.155</td>\n",
              "      <td>...</td>\n",
              "      <td>0.0</td>\n",
              "      <td>0.0</td>\n",
              "      <td>1.0</td>\n",
>>>>>>> 3baf2be7218ba1b843824d2357c883b42d642797
              "      <td>1.0</td>\n",
              "      <td>0.0</td>\n",
              "      <td>0.0</td>\n",
              "      <td>0.0</td>\n",
<<<<<<< HEAD
              "      <td>1.0</td>\n",
=======
              "      <td>0.0</td>\n",
>>>>>>> 3baf2be7218ba1b843824d2357c883b42d642797
              "      <td>0.0</td>\n",
              "      <td>0.0</td>\n",
              "    </tr>\n",
              "    <tr>\n",
              "      <th>4</th>\n",
              "      <td>0</td>\n",
<<<<<<< HEAD
              "      <td>0.317</td>\n",
              "      <td>0.002</td>\n",
              "      <td>0.001</td>\n",
              "      <td>0.001</td>\n",
              "      <td>0.001</td>\n",
              "      <td>0.557</td>\n",
              "      <td>0.285</td>\n",
              "      <td>0.392</td>\n",
              "      <td>0.204</td>\n",
              "      <td>...</td>\n",
              "      <td>0.0</td>\n",
              "      <td>0.0</td>\n",
              "      <td>0.0</td>\n",
              "      <td>0.0</td>\n",
=======
              "      <td>0.016</td>\n",
              "      <td>0.318</td>\n",
              "      <td>0.001</td>\n",
              "      <td>0.201</td>\n",
              "      <td>0.302</td>\n",
              "      <td>0.001</td>\n",
              "      <td>0.001</td>\n",
              "      <td>0.571</td>\n",
              "      <td>0.001</td>\n",
              "      <td>...</td>\n",
              "      <td>0.0</td>\n",
              "      <td>1.0</td>\n",
>>>>>>> 3baf2be7218ba1b843824d2357c883b42d642797
              "      <td>0.0</td>\n",
              "      <td>0.0</td>\n",
              "      <td>1.0</td>\n",
              "      <td>0.0</td>\n",
              "      <td>0.0</td>\n",
              "      <td>0.0</td>\n",
<<<<<<< HEAD
              "    </tr>\n",
              "  </tbody>\n",
              "</table>\n",
              "<p>5 rows × 43 columns</p>\n",
=======
              "      <td>0.0</td>\n",
              "      <td>0.0</td>\n",
              "    </tr>\n",
              "  </tbody>\n",
              "</table>\n",
              "<p>5 rows × 44 columns</p>\n",
>>>>>>> 3baf2be7218ba1b843824d2357c883b42d642797
              "</div>\n",
              "    <div class=\"colab-df-buttons\">\n",
              "\n",
              "  <div class=\"colab-df-container\">\n",
<<<<<<< HEAD
              "    <button class=\"colab-df-convert\" onclick=\"convertToInteractive('df-a539e1c3-b758-405a-92e4-009a1a915a38')\"\n",
=======
              "    <button class=\"colab-df-convert\" onclick=\"convertToInteractive('df-647338a5-d14d-4902-9e4b-739e39dd2662')\"\n",
>>>>>>> 3baf2be7218ba1b843824d2357c883b42d642797
              "            title=\"Convert this dataframe to an interactive table.\"\n",
              "            style=\"display:none;\">\n",
              "\n",
              "  <svg xmlns=\"http://www.w3.org/2000/svg\" height=\"24px\" viewBox=\"0 -960 960 960\">\n",
              "    <path d=\"M120-120v-720h720v720H120Zm60-500h600v-160H180v160Zm220 220h160v-160H400v160Zm0 220h160v-160H400v160ZM180-400h160v-160H180v160Zm440 0h160v-160H620v160ZM180-180h160v-160H180v160Zm440 0h160v-160H620v160Z\"/>\n",
              "  </svg>\n",
              "    </button>\n",
              "\n",
              "  <style>\n",
              "    .colab-df-container {\n",
              "      display:flex;\n",
              "      gap: 12px;\n",
              "    }\n",
              "\n",
              "    .colab-df-convert {\n",
              "      background-color: #E8F0FE;\n",
              "      border: none;\n",
              "      border-radius: 50%;\n",
              "      cursor: pointer;\n",
              "      display: none;\n",
              "      fill: #1967D2;\n",
              "      height: 32px;\n",
              "      padding: 0 0 0 0;\n",
              "      width: 32px;\n",
              "    }\n",
              "\n",
              "    .colab-df-convert:hover {\n",
              "      background-color: #E2EBFA;\n",
              "      box-shadow: 0px 1px 2px rgba(60, 64, 67, 0.3), 0px 1px 3px 1px rgba(60, 64, 67, 0.15);\n",
              "      fill: #174EA6;\n",
              "    }\n",
              "\n",
              "    .colab-df-buttons div {\n",
              "      margin-bottom: 4px;\n",
              "    }\n",
              "\n",
              "    [theme=dark] .colab-df-convert {\n",
              "      background-color: #3B4455;\n",
              "      fill: #D2E3FC;\n",
              "    }\n",
              "\n",
              "    [theme=dark] .colab-df-convert:hover {\n",
              "      background-color: #434B5C;\n",
              "      box-shadow: 0px 1px 3px 1px rgba(0, 0, 0, 0.15);\n",
              "      filter: drop-shadow(0px 1px 2px rgba(0, 0, 0, 0.3));\n",
              "      fill: #FFFFFF;\n",
              "    }\n",
              "  </style>\n",
              "\n",
              "    <script>\n",
              "      const buttonEl =\n",
<<<<<<< HEAD
              "        document.querySelector('#df-a539e1c3-b758-405a-92e4-009a1a915a38 button.colab-df-convert');\n",
=======
              "        document.querySelector('#df-647338a5-d14d-4902-9e4b-739e39dd2662 button.colab-df-convert');\n",
>>>>>>> 3baf2be7218ba1b843824d2357c883b42d642797
              "      buttonEl.style.display =\n",
              "        google.colab.kernel.accessAllowed ? 'block' : 'none';\n",
              "\n",
              "      async function convertToInteractive(key) {\n",
<<<<<<< HEAD
              "        const element = document.querySelector('#df-a539e1c3-b758-405a-92e4-009a1a915a38');\n",
=======
              "        const element = document.querySelector('#df-647338a5-d14d-4902-9e4b-739e39dd2662');\n",
>>>>>>> 3baf2be7218ba1b843824d2357c883b42d642797
              "        const dataTable =\n",
              "          await google.colab.kernel.invokeFunction('convertToInteractive',\n",
              "                                                    [key], {});\n",
              "        if (!dataTable) return;\n",
              "\n",
              "        const docLinkHtml = 'Like what you see? Visit the ' +\n",
              "          '<a target=\"_blank\" href=https://colab.research.google.com/notebooks/data_table.ipynb>data table notebook</a>'\n",
              "          + ' to learn more about interactive tables.';\n",
              "        element.innerHTML = '';\n",
              "        dataTable['output_type'] = 'display_data';\n",
              "        await google.colab.output.renderOutput(dataTable, element);\n",
              "        const docLink = document.createElement('div');\n",
              "        docLink.innerHTML = docLinkHtml;\n",
              "        element.appendChild(docLink);\n",
              "      }\n",
              "    </script>\n",
              "  </div>\n",
              "\n",
              "\n",
<<<<<<< HEAD
              "<div id=\"df-d12eaf85-4c56-4f47-b6f9-5d6557c87c97\">\n",
              "  <button class=\"colab-df-quickchart\" onclick=\"quickchart('df-d12eaf85-4c56-4f47-b6f9-5d6557c87c97')\"\n",
=======
              "<div id=\"df-402a1401-0dd3-4259-af70-eba00227b1ee\">\n",
              "  <button class=\"colab-df-quickchart\" onclick=\"quickchart('df-402a1401-0dd3-4259-af70-eba00227b1ee')\"\n",
>>>>>>> 3baf2be7218ba1b843824d2357c883b42d642797
              "            title=\"Suggest charts\"\n",
              "            style=\"display:none;\">\n",
              "\n",
              "<svg xmlns=\"http://www.w3.org/2000/svg\" height=\"24px\"viewBox=\"0 0 24 24\"\n",
              "     width=\"24px\">\n",
              "    <g>\n",
              "        <path d=\"M19 3H5c-1.1 0-2 .9-2 2v14c0 1.1.9 2 2 2h14c1.1 0 2-.9 2-2V5c0-1.1-.9-2-2-2zM9 17H7v-7h2v7zm4 0h-2V7h2v10zm4 0h-2v-4h2v4z\"/>\n",
              "    </g>\n",
              "</svg>\n",
              "  </button>\n",
              "\n",
              "<style>\n",
              "  .colab-df-quickchart {\n",
              "      --bg-color: #E8F0FE;\n",
              "      --fill-color: #1967D2;\n",
              "      --hover-bg-color: #E2EBFA;\n",
              "      --hover-fill-color: #174EA6;\n",
              "      --disabled-fill-color: #AAA;\n",
              "      --disabled-bg-color: #DDD;\n",
              "  }\n",
              "\n",
              "  [theme=dark] .colab-df-quickchart {\n",
              "      --bg-color: #3B4455;\n",
              "      --fill-color: #D2E3FC;\n",
              "      --hover-bg-color: #434B5C;\n",
              "      --hover-fill-color: #FFFFFF;\n",
              "      --disabled-bg-color: #3B4455;\n",
              "      --disabled-fill-color: #666;\n",
              "  }\n",
              "\n",
              "  .colab-df-quickchart {\n",
              "    background-color: var(--bg-color);\n",
              "    border: none;\n",
              "    border-radius: 50%;\n",
              "    cursor: pointer;\n",
              "    display: none;\n",
              "    fill: var(--fill-color);\n",
              "    height: 32px;\n",
              "    padding: 0;\n",
              "    width: 32px;\n",
              "  }\n",
              "\n",
              "  .colab-df-quickchart:hover {\n",
              "    background-color: var(--hover-bg-color);\n",
              "    box-shadow: 0 1px 2px rgba(60, 64, 67, 0.3), 0 1px 3px 1px rgba(60, 64, 67, 0.15);\n",
              "    fill: var(--button-hover-fill-color);\n",
              "  }\n",
              "\n",
              "  .colab-df-quickchart-complete:disabled,\n",
              "  .colab-df-quickchart-complete:disabled:hover {\n",
              "    background-color: var(--disabled-bg-color);\n",
              "    fill: var(--disabled-fill-color);\n",
              "    box-shadow: none;\n",
              "  }\n",
              "\n",
              "  .colab-df-spinner {\n",
              "    border: 2px solid var(--fill-color);\n",
              "    border-color: transparent;\n",
              "    border-bottom-color: var(--fill-color);\n",
              "    animation:\n",
              "      spin 1s steps(1) infinite;\n",
              "  }\n",
              "\n",
              "  @keyframes spin {\n",
              "    0% {\n",
              "      border-color: transparent;\n",
              "      border-bottom-color: var(--fill-color);\n",
              "      border-left-color: var(--fill-color);\n",
              "    }\n",
              "    20% {\n",
              "      border-color: transparent;\n",
              "      border-left-color: var(--fill-color);\n",
              "      border-top-color: var(--fill-color);\n",
              "    }\n",
              "    30% {\n",
              "      border-color: transparent;\n",
              "      border-left-color: var(--fill-color);\n",
              "      border-top-color: var(--fill-color);\n",
              "      border-right-color: var(--fill-color);\n",
              "    }\n",
              "    40% {\n",
              "      border-color: transparent;\n",
              "      border-right-color: var(--fill-color);\n",
              "      border-top-color: var(--fill-color);\n",
              "    }\n",
              "    60% {\n",
              "      border-color: transparent;\n",
              "      border-right-color: var(--fill-color);\n",
              "    }\n",
              "    80% {\n",
              "      border-color: transparent;\n",
              "      border-right-color: var(--fill-color);\n",
              "      border-bottom-color: var(--fill-color);\n",
              "    }\n",
              "    90% {\n",
              "      border-color: transparent;\n",
              "      border-bottom-color: var(--fill-color);\n",
              "    }\n",
              "  }\n",
              "</style>\n",
              "\n",
              "  <script>\n",
              "    async function quickchart(key) {\n",
              "      const quickchartButtonEl =\n",
              "        document.querySelector('#' + key + ' button');\n",
              "      quickchartButtonEl.disabled = true;  // To prevent multiple clicks.\n",
              "      quickchartButtonEl.classList.add('colab-df-spinner');\n",
              "      try {\n",
              "        const charts = await google.colab.kernel.invokeFunction(\n",
              "            'suggestCharts', [key], {});\n",
              "      } catch (error) {\n",
              "        console.error('Error during call to suggestCharts:', error);\n",
              "      }\n",
              "      quickchartButtonEl.classList.remove('colab-df-spinner');\n",
              "      quickchartButtonEl.classList.add('colab-df-quickchart-complete');\n",
              "    }\n",
              "    (() => {\n",
              "      let quickchartButtonEl =\n",
<<<<<<< HEAD
              "        document.querySelector('#df-d12eaf85-4c56-4f47-b6f9-5d6557c87c97 button');\n",
=======
              "        document.querySelector('#df-402a1401-0dd3-4259-af70-eba00227b1ee button');\n",
>>>>>>> 3baf2be7218ba1b843824d2357c883b42d642797
              "      quickchartButtonEl.style.display =\n",
              "        google.colab.kernel.accessAllowed ? 'block' : 'none';\n",
              "    })();\n",
              "  </script>\n",
              "</div>\n",
              "\n",
              "    </div>\n",
              "  </div>\n"
            ],
            "application/vnd.google.colaboratory.intrinsic+json": {
              "type": "dataframe",
              "variable_name": "df"
            }
          },
          "metadata": {},
<<<<<<< HEAD
          "execution_count": 59
=======
          "execution_count": 89
>>>>>>> 3baf2be7218ba1b843824d2357c883b42d642797
        }
      ]
    },
    {
      "cell_type": "markdown",
      "source": [
        "## Train Test Split"
      ],
      "metadata": {
        "id": "Oc6VU37OoCyb"
      }
    },
    {
      "cell_type": "code",
      "source": [
        "# seed\n",
        "import random\n",
        "\n",
<<<<<<< HEAD
        "seed_id = 11800996\n",
=======
        "seed_id = 11774987\n",
>>>>>>> 3baf2be7218ba1b843824d2357c883b42d642797
        "random_state = random.seed(seed_id)\n",
        "random_state"
      ],
      "metadata": {
        "id": "2w9ihcyFlend"
      },
      "execution_count": null,
      "outputs": []
    },
    {
      "cell_type": "code",
      "source": [
        "from sklearn.model_selection import train_test_split\n",
        "\n",
        "X_train, X_test, y_train, y_test = train_test_split(df.drop('class', axis=1), df['class'], test_size=0.3, random_state=random_state)\n",
        "X_train.shape, X_test.shape"
      ],
      "metadata": {
        "colab": {
          "base_uri": "https://localhost:8080/"
        },
        "id": "RcrWm0I4oEy2",
<<<<<<< HEAD
        "outputId": "9ccd2455-3374-485c-cf72-13cd87a8f405"
=======
        "outputId": "5b5def60-9b9d-4b1c-c89d-b36b4b8244fe"
>>>>>>> 3baf2be7218ba1b843824d2357c883b42d642797
      },
      "execution_count": null,
      "outputs": [
        {
          "output_type": "execute_result",
          "data": {
            "text/plain": [
<<<<<<< HEAD
              "((700, 42), (300, 42))"
            ]
          },
          "metadata": {},
          "execution_count": 61
=======
              "((700, 43), (300, 43))"
            ]
          },
          "metadata": {},
          "execution_count": 91
>>>>>>> 3baf2be7218ba1b843824d2357c883b42d642797
        }
      ]
    },
    {
      "cell_type": "markdown",
      "source": [
        "### Mutual Information"
      ],
      "metadata": {
        "id": "rb9tIdNp8J8v"
      }
    },
    {
      "cell_type": "code",
      "source": [
        "# mutual information\n",
        "import matplotlib.pyplot as plt\n",
        "from sklearn.feature_selection import mutual_info_regression, mutual_info_classif\n",
        "\n",
        "mi = mutual_info_classif(X_train, y_train)\n",
        "mi = pd.Series(mi)\n",
        "mi.index = X_train.columns\n",
        "mi.sort_values(ascending=False).plot.bar()\n",
        "plt.ylabel('Mutual Information');"
      ],
      "metadata": {
        "colab": {
          "base_uri": "https://localhost:8080/",
          "height": 691
        },
        "id": "SKFraXeRtr44",
<<<<<<< HEAD
        "outputId": "b6963002-2376-4bc7-ed8b-dbd7f2c3e171"
=======
        "outputId": "acc1516f-e942-41a9-b3b1-f9b073d370ea"
>>>>>>> 3baf2be7218ba1b843824d2357c883b42d642797
      },
      "execution_count": null,
      "outputs": [
        {
          "output_type": "display_data",
          "data": {
            "text/plain": [
              "<Figure size 640x480 with 1 Axes>"
            ],
<<<<<<< HEAD
            "image/png": "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\n"
=======
            "image/png": "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\n"
>>>>>>> 3baf2be7218ba1b843824d2357c883b42d642797
          },
          "metadata": {}
        }
      ]
    },
    {
      "cell_type": "code",
      "source": [
        "mi_keepers = mi.sort_values(ascending=False).index[:5]\n",
        "print(mi_keepers)"
      ],
      "metadata": {
        "colab": {
          "base_uri": "https://localhost:8080/"
        },
        "id": "f-UYVaIuwb6n",
<<<<<<< HEAD
        "outputId": "d51552ca-0ec8-4e67-cae8-f582b9e82734"
=======
        "outputId": "855c8389-faf1-4547-fb73-1a5fd7926d0b"
>>>>>>> 3baf2be7218ba1b843824d2357c883b42d642797
      },
      "execution_count": null,
      "outputs": [
        {
          "output_type": "stream",
          "name": "stdout",
          "text": [
<<<<<<< HEAD
            "Index(['duplicate_2', 'target', 'pd qcut1', 'correlated w target 2',\n",
            "       'uniform corr 2'],\n",
=======
            "Index(['duplicate_2', 'target', 'pd qcut3', 'pd qcut2_Q4',\n",
            "       'corr_feature_class'],\n",
>>>>>>> 3baf2be7218ba1b843824d2357c883b42d642797
            "      dtype='object')\n"
          ]
        }
      ]
    },
    {
      "cell_type": "markdown",
      "source": [
        "### SelectKBest"
      ],
      "metadata": {
        "id": "vRo1hgSE8Qy1"
      }
    },
    {
      "cell_type": "code",
      "source": [
        "# SelectKBest\n",
        "from sklearn.feature_selection import SelectKBest, f_regression, f_classif\n",
        "\n",
        "selector = SelectKBest(f_classif, k=5) # Select the top 5 features\n",
        "X_new = selector.fit(X_train, y_train)\n",
        "\n",
        "kb_keepers = X_train.columns.values[selector.get_support()]\n",
        "print(kb_keepers)"
      ],
      "metadata": {
        "colab": {
          "base_uri": "https://localhost:8080/"
        },
        "id": "PExIjwjzuw_Q",
<<<<<<< HEAD
        "outputId": "2df10b4f-6967-4b9d-c128-df7e81e19295"
=======
        "outputId": "781300e1-e0c3-4df5-96e2-f880f82489e7"
>>>>>>> 3baf2be7218ba1b843824d2357c883b42d642797
      },
      "execution_count": null,
      "outputs": [
        {
          "output_type": "stream",
          "name": "stdout",
          "text": [
<<<<<<< HEAD
            "['duplicate_2' 'target' 'pd qcut1' 'correlated w target 2'\n",
            " 'uniform corr 2']\n"
=======
            "['target' 'uniform corr 1' 'duplicate_2' 'pd qcut1' 'pd qcut2_Q4']\n"
>>>>>>> 3baf2be7218ba1b843824d2357c883b42d642797
          ]
        }
      ]
    },
    {
      "cell_type": "markdown",
      "source": [
        "### Select From Model"
      ],
      "metadata": {
        "id": "fjR1U4GM8Tyw"
      }
    },
    {
      "source": [
        "# Select from model\n",
        "import numpy as np\n",
        "from sklearn.linear_model import LinearRegression, LogisticRegression\n",
        "from sklearn.feature_selection import SelectFromModel\n",
        "from sklearn.preprocessing import StandardScaler\n",
        "\n",
        "scaler = StandardScaler()\n",
        "scaler.fit(X_train)\n",
        "X_scaled = scaler.transform(X_train)\n",
        "\n",
        "selections = SelectFromModel(estimator=LogisticRegression()).fit(X_scaled, y_train)\n",
        "mt_keepers = X_train.columns.values[selections.get_support()]\n",
        "print(mt_keepers)"
      ],
      "cell_type": "code",
      "metadata": {
        "colab": {
          "base_uri": "https://localhost:8080/"
        },
        "id": "DkRDmJWchp0Z",
<<<<<<< HEAD
        "outputId": "17571ccd-39cd-4ec5-eb0b-7af5c177daa9"
=======
        "outputId": "d154db94-27f8-4dba-e7cf-a16b8055e92f"
>>>>>>> 3baf2be7218ba1b843824d2357c883b42d642797
      },
      "execution_count": null,
      "outputs": [
        {
          "output_type": "stream",
          "name": "stdout",
          "text": [
<<<<<<< HEAD
            "['duplicate_2' 'duplicate_1' 'pd qcut3' 'target' 'pd qcut1'\n",
            " 'uniform corr 2' 'random choice 4_West' 'pd qcut2_Q2' 'pd qcut2_Q3'\n",
            " 'pd qcut2_Q4']\n"
=======
            "['state' 'zipcode' 'target' 'uniform corr 1' 'duplicate_2'\n",
            " 'random choice 7' 'informative_1' 'corr_feature_class' 'pd qcut2_Q4'\n",
            " 'random choice 4_North' 'random choice 4_South'\n",
            " 'semi_constant_1_q_const_0_2']\n"
>>>>>>> 3baf2be7218ba1b843824d2357c883b42d642797
          ]
        }
      ]
    },
    {
      "cell_type": "markdown",
      "source": [
        "### Recursive Feature Elmination"
      ],
      "metadata": {
        "id": "Hum_dCtv8XfC"
      }
    },
    {
      "cell_type": "code",
      "source": [
        "from sklearn.feature_selection import RFE\n",
        "from sklearn.linear_model import LinearRegression, LogisticRegression\n",
        "\n",
        "estimator = LogisticRegression()\n",
        "selector = RFE(estimator, n_features_to_select=5) # Select the top 5 features\n",
        "X_new = selector.fit_transform(X_scaled, y_train)\n",
        "rf_keepers = X_train.columns.values[selections.get_support()]\n",
        "print(rf_keepers)"
      ],
      "metadata": {
        "colab": {
          "base_uri": "https://localhost:8080/"
        },
        "id": "epn6N1WTvyNX",
<<<<<<< HEAD
        "outputId": "4aaf8ee4-4a48-4156-881d-2c66abc5c093"
=======
        "outputId": "9840a67f-d1f9-40cd-a514-7fa83e30af99"
>>>>>>> 3baf2be7218ba1b843824d2357c883b42d642797
      },
      "execution_count": null,
      "outputs": [
        {
          "output_type": "stream",
          "name": "stdout",
          "text": [
<<<<<<< HEAD
            "['duplicate_2' 'duplicate_1' 'pd qcut3' 'target' 'pd qcut1'\n",
            " 'uniform corr 2' 'random choice 4_West' 'pd qcut2_Q2' 'pd qcut2_Q3'\n",
            " 'pd qcut2_Q4']\n"
=======
            "['state' 'zipcode' 'target' 'uniform corr 1' 'duplicate_2'\n",
            " 'random choice 7' 'informative_1' 'corr_feature_class' 'pd qcut2_Q4'\n",
            " 'random choice 4_North' 'random choice 4_South'\n",
            " 'semi_constant_1_q_const_0_2']\n"
>>>>>>> 3baf2be7218ba1b843824d2357c883b42d642797
          ]
        }
      ]
    },
    {
      "cell_type": "markdown",
      "source": [
        "### Review Pickled Variables\n",
        "\n",
        "* Correlated features\n",
        "* VIF\n",
        "* Outliers"
      ],
      "metadata": {
        "id": "CQ7VwY3ABUsa"
      }
    },
    {
      "cell_type": "markdown",
      "source": [
        "### Random Forest Importance\n"
      ],
      "metadata": {
        "id": "wPvl0kTMe3e4"
      }
    },
    {
      "cell_type": "code",
      "source": [
        "# random forest importance\n",
        "from sklearn.ensemble import RandomForestClassifier, RandomForestRegressor\n",
        "from sklearn.feature_selection import SelectFromModel\n",
        "\n",
        "selects = SelectFromModel(RandomForestClassifier(n_estimators=100, random_state=random_state), max_features=4)\n",
        "selects.fit(X_train, y_train)\n",
        "rfi = X_train.columns[(selects.get_support())]\n",
        "rfi.tolist()"
      ],
      "metadata": {
        "colab": {
          "base_uri": "https://localhost:8080/"
        },
        "id": "VaMYAQmnfGRp",
<<<<<<< HEAD
        "outputId": "bcf962e9-a628-4867-f0f1-213ebc77415c"
=======
        "outputId": "c80c7998-fb3a-4f47-e3ce-c3d2d0a7103d"
>>>>>>> 3baf2be7218ba1b843824d2357c883b42d642797
      },
      "execution_count": null,
      "outputs": [
        {
          "output_type": "execute_result",
          "data": {
            "text/plain": [
<<<<<<< HEAD
              "['duplicate_2', 'target', 'pd qcut1', 'correlated w target 2']"
            ]
          },
          "metadata": {},
          "execution_count": 67
=======
              "['target', 'uniform corr 1', 'duplicate_2', 'pd qcut3']"
            ]
          },
          "metadata": {},
          "execution_count": 97
>>>>>>> 3baf2be7218ba1b843824d2357c883b42d642797
        }
      ]
    },
    {
      "cell_type": "markdown",
      "source": [
        "Scenario: We are trying to classify if a user will subscribe to our YouTube channel.\n",
        "\n",
        "Lets grab the first four features from feature importance and rename them using the following suggestions:\n",
        "\n",
        "**Numerical Features**\n",
        "\n",
        "*   **Watch Time (seconds)**: Measures the total time viewers spend watching your videos.\n",
        "*   **Average View Duration (seconds)**: The average length of time viewers watch a single video.\n",
        "*   **Click-Through Rate (CTR)**: The percentage of viewers who click on your video after seeing the thumbnail/title.\n",
        "*   **Comments per Video**: The number of comments on each video.\n",
        "*   **Shares per Video**: The number of times each video is shared.\n",
        "*   **Likes per Video**: The number of likes on each video.\n",
        "*   **Dislikes per Video**: The number of dislikes on each video.\n",
        "*   **Subscribers Gained per Video**: The number of subscribers gained after a video is published.\n",
        "*   **Views per Video**: The total number of views for each video.\n",
        "\n",
        "**Categorical Features**\n",
        "\n",
        "*   **Video Category**: The category or genre of the video (e.g., tutorial, review, vlog).\n",
        "*   **Upload Frequency**: How often you upload videos (e.g., daily, weekly, monthly).\n",
        "*   **Video Length**: Categorize videos based on length (e.g., short, medium, long).\n",
        "*   **Thumbnail Type**: The type of thumbnail used (e.g., image, text overlay, face).\n",
        "*   **Use of Background Music**: Whether the video uses background music or not.\n",
        "*   **Use of End Screens**: Whether the video includes end screens or not.\n",
        "*   **Viewer Gender**: The dominant gender of your viewers (if available).\n",
        "*   **Viewer Age**: The dominant age group of your viewers (if available).\n",
        "*   **Viewer Location**: The primary location of your viewers (if available).\n",
        "\n",
        "**Discrete Features**\n",
        "\n",
        "*   **Number of Videos Uploaded**: The total number of videos on your channel.\n",
        "*   **Channel Age (months)**: The age of your YouTube channel.\n",
        "*   **Number of Playlists**: The total number of playlists on your channel.\n",
        "*   **Use of Subtitles**: Whether your videos include subtitles (0 or 1).\n",
        "*   **Use of Closed Captions**: Whether your videos include closed captions (0 or 1).\n",
        "*   **Viewer Engagement Level**: Categorize viewer engagement into levels (e.g., low, medium, high).\n",
        "*   **Video Quality**: Categorize video quality (e.g., low, medium, high).\n",
        "*   **Subscriber Count**: The total number of subscribers to your channel.\n",
        "\n",
        "\n",
        "\n"
      ],
      "metadata": {
        "id": "fJ7tH75NfZom"
      }
    },
    {
      "cell_type": "code",
      "source": [
        "features_to_model = rfi\n",
        "X_train[features_to_model].head()"
      ],
      "metadata": {
        "colab": {
          "base_uri": "https://localhost:8080/",
          "height": 206
        },
        "id": "VFzff6aCfefd",
<<<<<<< HEAD
        "outputId": "493fe4fa-7a82-4812-ecf9-9d49dd8a96e9"
=======
        "outputId": "ebf3c98b-92e0-460f-f1be-4f2c703f56bb"
>>>>>>> 3baf2be7218ba1b843824d2357c883b42d642797
      },
      "execution_count": null,
      "outputs": [
        {
          "output_type": "execute_result",
          "data": {
            "text/plain": [
<<<<<<< HEAD
              "     duplicate_2    target  pd qcut1  correlated w target 2\n",
              "447     0.476032  1.405791         1               0.707815\n",
              "308    -0.698644 -0.918745         0               1.573024\n",
              "455    -0.696216 -0.964929         0               1.385103\n",
              "169     2.048879  5.081689         1               3.212152\n",
              "911     0.287089  0.913690         1               2.176392"
            ],
            "text/html": [
              "\n",
              "  <div id=\"df-455b0dc5-1448-4893-b06f-1e0471876197\" class=\"colab-df-container\">\n",
=======
              "       target  uniform corr 1  duplicate_2  pd qcut3\n",
              "360 -2.741124        0.449491    -1.412515     0.097\n",
              "963  4.464223        0.750477     2.292819     0.193\n",
              "507 -0.122101        0.407996    -0.161470     0.188\n",
              "781 -3.052789        0.235659    -1.802291     0.097\n",
              "149  0.993651        0.913562     0.383407     0.185"
            ],
            "text/html": [
              "\n",
              "  <div id=\"df-c8e72b96-e729-4173-bb42-da842f9e6b76\" class=\"colab-df-container\">\n",
>>>>>>> 3baf2be7218ba1b843824d2357c883b42d642797
              "    <div>\n",
              "<style scoped>\n",
              "    .dataframe tbody tr th:only-of-type {\n",
              "        vertical-align: middle;\n",
              "    }\n",
              "\n",
              "    .dataframe tbody tr th {\n",
              "        vertical-align: top;\n",
              "    }\n",
              "\n",
              "    .dataframe thead th {\n",
              "        text-align: right;\n",
              "    }\n",
              "</style>\n",
              "<table border=\"1\" class=\"dataframe\">\n",
              "  <thead>\n",
              "    <tr style=\"text-align: right;\">\n",
              "      <th></th>\n",
<<<<<<< HEAD
              "      <th>duplicate_2</th>\n",
              "      <th>target</th>\n",
              "      <th>pd qcut1</th>\n",
              "      <th>correlated w target 2</th>\n",
=======
              "      <th>target</th>\n",
              "      <th>uniform corr 1</th>\n",
              "      <th>duplicate_2</th>\n",
              "      <th>pd qcut3</th>\n",
>>>>>>> 3baf2be7218ba1b843824d2357c883b42d642797
              "    </tr>\n",
              "  </thead>\n",
              "  <tbody>\n",
              "    <tr>\n",
<<<<<<< HEAD
              "      <th>447</th>\n",
              "      <td>0.476032</td>\n",
              "      <td>1.405791</td>\n",
              "      <td>1</td>\n",
              "      <td>0.707815</td>\n",
              "    </tr>\n",
              "    <tr>\n",
              "      <th>308</th>\n",
              "      <td>-0.698644</td>\n",
              "      <td>-0.918745</td>\n",
              "      <td>0</td>\n",
              "      <td>1.573024</td>\n",
              "    </tr>\n",
              "    <tr>\n",
              "      <th>455</th>\n",
              "      <td>-0.696216</td>\n",
              "      <td>-0.964929</td>\n",
              "      <td>0</td>\n",
              "      <td>1.385103</td>\n",
              "    </tr>\n",
              "    <tr>\n",
              "      <th>169</th>\n",
              "      <td>2.048879</td>\n",
              "      <td>5.081689</td>\n",
              "      <td>1</td>\n",
              "      <td>3.212152</td>\n",
              "    </tr>\n",
              "    <tr>\n",
              "      <th>911</th>\n",
              "      <td>0.287089</td>\n",
              "      <td>0.913690</td>\n",
              "      <td>1</td>\n",
              "      <td>2.176392</td>\n",
=======
              "      <th>360</th>\n",
              "      <td>-2.741124</td>\n",
              "      <td>0.449491</td>\n",
              "      <td>-1.412515</td>\n",
              "      <td>0.097</td>\n",
              "    </tr>\n",
              "    <tr>\n",
              "      <th>963</th>\n",
              "      <td>4.464223</td>\n",
              "      <td>0.750477</td>\n",
              "      <td>2.292819</td>\n",
              "      <td>0.193</td>\n",
              "    </tr>\n",
              "    <tr>\n",
              "      <th>507</th>\n",
              "      <td>-0.122101</td>\n",
              "      <td>0.407996</td>\n",
              "      <td>-0.161470</td>\n",
              "      <td>0.188</td>\n",
              "    </tr>\n",
              "    <tr>\n",
              "      <th>781</th>\n",
              "      <td>-3.052789</td>\n",
              "      <td>0.235659</td>\n",
              "      <td>-1.802291</td>\n",
              "      <td>0.097</td>\n",
              "    </tr>\n",
              "    <tr>\n",
              "      <th>149</th>\n",
              "      <td>0.993651</td>\n",
              "      <td>0.913562</td>\n",
              "      <td>0.383407</td>\n",
              "      <td>0.185</td>\n",
>>>>>>> 3baf2be7218ba1b843824d2357c883b42d642797
              "    </tr>\n",
              "  </tbody>\n",
              "</table>\n",
              "</div>\n",
              "    <div class=\"colab-df-buttons\">\n",
              "\n",
              "  <div class=\"colab-df-container\">\n",
<<<<<<< HEAD
              "    <button class=\"colab-df-convert\" onclick=\"convertToInteractive('df-455b0dc5-1448-4893-b06f-1e0471876197')\"\n",
=======
              "    <button class=\"colab-df-convert\" onclick=\"convertToInteractive('df-c8e72b96-e729-4173-bb42-da842f9e6b76')\"\n",
>>>>>>> 3baf2be7218ba1b843824d2357c883b42d642797
              "            title=\"Convert this dataframe to an interactive table.\"\n",
              "            style=\"display:none;\">\n",
              "\n",
              "  <svg xmlns=\"http://www.w3.org/2000/svg\" height=\"24px\" viewBox=\"0 -960 960 960\">\n",
              "    <path d=\"M120-120v-720h720v720H120Zm60-500h600v-160H180v160Zm220 220h160v-160H400v160Zm0 220h160v-160H400v160ZM180-400h160v-160H180v160Zm440 0h160v-160H620v160ZM180-180h160v-160H180v160Zm440 0h160v-160H620v160Z\"/>\n",
              "  </svg>\n",
              "    </button>\n",
              "\n",
              "  <style>\n",
              "    .colab-df-container {\n",
              "      display:flex;\n",
              "      gap: 12px;\n",
              "    }\n",
              "\n",
              "    .colab-df-convert {\n",
              "      background-color: #E8F0FE;\n",
              "      border: none;\n",
              "      border-radius: 50%;\n",
              "      cursor: pointer;\n",
              "      display: none;\n",
              "      fill: #1967D2;\n",
              "      height: 32px;\n",
              "      padding: 0 0 0 0;\n",
              "      width: 32px;\n",
              "    }\n",
              "\n",
              "    .colab-df-convert:hover {\n",
              "      background-color: #E2EBFA;\n",
              "      box-shadow: 0px 1px 2px rgba(60, 64, 67, 0.3), 0px 1px 3px 1px rgba(60, 64, 67, 0.15);\n",
              "      fill: #174EA6;\n",
              "    }\n",
              "\n",
              "    .colab-df-buttons div {\n",
              "      margin-bottom: 4px;\n",
              "    }\n",
              "\n",
              "    [theme=dark] .colab-df-convert {\n",
              "      background-color: #3B4455;\n",
              "      fill: #D2E3FC;\n",
              "    }\n",
              "\n",
              "    [theme=dark] .colab-df-convert:hover {\n",
              "      background-color: #434B5C;\n",
              "      box-shadow: 0px 1px 3px 1px rgba(0, 0, 0, 0.15);\n",
              "      filter: drop-shadow(0px 1px 2px rgba(0, 0, 0, 0.3));\n",
              "      fill: #FFFFFF;\n",
              "    }\n",
              "  </style>\n",
              "\n",
              "    <script>\n",
              "      const buttonEl =\n",
<<<<<<< HEAD
              "        document.querySelector('#df-455b0dc5-1448-4893-b06f-1e0471876197 button.colab-df-convert');\n",
=======
              "        document.querySelector('#df-c8e72b96-e729-4173-bb42-da842f9e6b76 button.colab-df-convert');\n",
>>>>>>> 3baf2be7218ba1b843824d2357c883b42d642797
              "      buttonEl.style.display =\n",
              "        google.colab.kernel.accessAllowed ? 'block' : 'none';\n",
              "\n",
              "      async function convertToInteractive(key) {\n",
<<<<<<< HEAD
              "        const element = document.querySelector('#df-455b0dc5-1448-4893-b06f-1e0471876197');\n",
=======
              "        const element = document.querySelector('#df-c8e72b96-e729-4173-bb42-da842f9e6b76');\n",
>>>>>>> 3baf2be7218ba1b843824d2357c883b42d642797
              "        const dataTable =\n",
              "          await google.colab.kernel.invokeFunction('convertToInteractive',\n",
              "                                                    [key], {});\n",
              "        if (!dataTable) return;\n",
              "\n",
              "        const docLinkHtml = 'Like what you see? Visit the ' +\n",
              "          '<a target=\"_blank\" href=https://colab.research.google.com/notebooks/data_table.ipynb>data table notebook</a>'\n",
              "          + ' to learn more about interactive tables.';\n",
              "        element.innerHTML = '';\n",
              "        dataTable['output_type'] = 'display_data';\n",
              "        await google.colab.output.renderOutput(dataTable, element);\n",
              "        const docLink = document.createElement('div');\n",
              "        docLink.innerHTML = docLinkHtml;\n",
              "        element.appendChild(docLink);\n",
              "      }\n",
              "    </script>\n",
              "  </div>\n",
              "\n",
              "\n",
<<<<<<< HEAD
              "<div id=\"df-9df86483-c776-4092-904f-6494a9d85e58\">\n",
              "  <button class=\"colab-df-quickchart\" onclick=\"quickchart('df-9df86483-c776-4092-904f-6494a9d85e58')\"\n",
=======
              "<div id=\"df-096b410b-c030-454e-9746-9e09a371c0aa\">\n",
              "  <button class=\"colab-df-quickchart\" onclick=\"quickchart('df-096b410b-c030-454e-9746-9e09a371c0aa')\"\n",
>>>>>>> 3baf2be7218ba1b843824d2357c883b42d642797
              "            title=\"Suggest charts\"\n",
              "            style=\"display:none;\">\n",
              "\n",
              "<svg xmlns=\"http://www.w3.org/2000/svg\" height=\"24px\"viewBox=\"0 0 24 24\"\n",
              "     width=\"24px\">\n",
              "    <g>\n",
              "        <path d=\"M19 3H5c-1.1 0-2 .9-2 2v14c0 1.1.9 2 2 2h14c1.1 0 2-.9 2-2V5c0-1.1-.9-2-2-2zM9 17H7v-7h2v7zm4 0h-2V7h2v10zm4 0h-2v-4h2v4z\"/>\n",
              "    </g>\n",
              "</svg>\n",
              "  </button>\n",
              "\n",
              "<style>\n",
              "  .colab-df-quickchart {\n",
              "      --bg-color: #E8F0FE;\n",
              "      --fill-color: #1967D2;\n",
              "      --hover-bg-color: #E2EBFA;\n",
              "      --hover-fill-color: #174EA6;\n",
              "      --disabled-fill-color: #AAA;\n",
              "      --disabled-bg-color: #DDD;\n",
              "  }\n",
              "\n",
              "  [theme=dark] .colab-df-quickchart {\n",
              "      --bg-color: #3B4455;\n",
              "      --fill-color: #D2E3FC;\n",
              "      --hover-bg-color: #434B5C;\n",
              "      --hover-fill-color: #FFFFFF;\n",
              "      --disabled-bg-color: #3B4455;\n",
              "      --disabled-fill-color: #666;\n",
              "  }\n",
              "\n",
              "  .colab-df-quickchart {\n",
              "    background-color: var(--bg-color);\n",
              "    border: none;\n",
              "    border-radius: 50%;\n",
              "    cursor: pointer;\n",
              "    display: none;\n",
              "    fill: var(--fill-color);\n",
              "    height: 32px;\n",
              "    padding: 0;\n",
              "    width: 32px;\n",
              "  }\n",
              "\n",
              "  .colab-df-quickchart:hover {\n",
              "    background-color: var(--hover-bg-color);\n",
              "    box-shadow: 0 1px 2px rgba(60, 64, 67, 0.3), 0 1px 3px 1px rgba(60, 64, 67, 0.15);\n",
              "    fill: var(--button-hover-fill-color);\n",
              "  }\n",
              "\n",
              "  .colab-df-quickchart-complete:disabled,\n",
              "  .colab-df-quickchart-complete:disabled:hover {\n",
              "    background-color: var(--disabled-bg-color);\n",
              "    fill: var(--disabled-fill-color);\n",
              "    box-shadow: none;\n",
              "  }\n",
              "\n",
              "  .colab-df-spinner {\n",
              "    border: 2px solid var(--fill-color);\n",
              "    border-color: transparent;\n",
              "    border-bottom-color: var(--fill-color);\n",
              "    animation:\n",
              "      spin 1s steps(1) infinite;\n",
              "  }\n",
              "\n",
              "  @keyframes spin {\n",
              "    0% {\n",
              "      border-color: transparent;\n",
              "      border-bottom-color: var(--fill-color);\n",
              "      border-left-color: var(--fill-color);\n",
              "    }\n",
              "    20% {\n",
              "      border-color: transparent;\n",
              "      border-left-color: var(--fill-color);\n",
              "      border-top-color: var(--fill-color);\n",
              "    }\n",
              "    30% {\n",
              "      border-color: transparent;\n",
              "      border-left-color: var(--fill-color);\n",
              "      border-top-color: var(--fill-color);\n",
              "      border-right-color: var(--fill-color);\n",
              "    }\n",
              "    40% {\n",
              "      border-color: transparent;\n",
              "      border-right-color: var(--fill-color);\n",
              "      border-top-color: var(--fill-color);\n",
              "    }\n",
              "    60% {\n",
              "      border-color: transparent;\n",
              "      border-right-color: var(--fill-color);\n",
              "    }\n",
              "    80% {\n",
              "      border-color: transparent;\n",
              "      border-right-color: var(--fill-color);\n",
              "      border-bottom-color: var(--fill-color);\n",
              "    }\n",
              "    90% {\n",
              "      border-color: transparent;\n",
              "      border-bottom-color: var(--fill-color);\n",
              "    }\n",
              "  }\n",
              "</style>\n",
              "\n",
              "  <script>\n",
              "    async function quickchart(key) {\n",
              "      const quickchartButtonEl =\n",
              "        document.querySelector('#' + key + ' button');\n",
              "      quickchartButtonEl.disabled = true;  // To prevent multiple clicks.\n",
              "      quickchartButtonEl.classList.add('colab-df-spinner');\n",
              "      try {\n",
              "        const charts = await google.colab.kernel.invokeFunction(\n",
              "            'suggestCharts', [key], {});\n",
              "      } catch (error) {\n",
              "        console.error('Error during call to suggestCharts:', error);\n",
              "      }\n",
              "      quickchartButtonEl.classList.remove('colab-df-spinner');\n",
              "      quickchartButtonEl.classList.add('colab-df-quickchart-complete');\n",
              "    }\n",
              "    (() => {\n",
              "      let quickchartButtonEl =\n",
<<<<<<< HEAD
              "        document.querySelector('#df-9df86483-c776-4092-904f-6494a9d85e58 button');\n",
=======
              "        document.querySelector('#df-096b410b-c030-454e-9746-9e09a371c0aa button');\n",
>>>>>>> 3baf2be7218ba1b843824d2357c883b42d642797
              "      quickchartButtonEl.style.display =\n",
              "        google.colab.kernel.accessAllowed ? 'block' : 'none';\n",
              "    })();\n",
              "  </script>\n",
              "</div>\n",
              "\n",
              "    </div>\n",
              "  </div>\n"
            ],
            "application/vnd.google.colaboratory.intrinsic+json": {
              "type": "dataframe",
<<<<<<< HEAD
              "summary": "{\n  \"name\": \"X_train[features_to_model]\",\n  \"rows\": 5,\n  \"fields\": [\n    {\n      \"column\": \"duplicate_2\",\n      \"properties\": {\n        \"dtype\": \"number\",\n        \"std\": 1.1267316539076868,\n        \"min\": -0.698644315223675,\n        \"max\": 2.048879420647075,\n        \"num_unique_values\": 5,\n        \"samples\": [\n          -0.698644315223675,\n          0.2870890347034585,\n          -0.6962160784329802\n        ],\n        \"semantic_type\": \"\",\n        \"description\": \"\"\n      }\n    },\n    {\n      \"column\": \"target\",\n      \"properties\": {\n        \"dtype\": \"number\",\n        \"std\": 2.4658298134422907,\n        \"min\": -0.964928665192825,\n        \"max\": 5.081689133279859,\n        \"num_unique_values\": 5,\n        \"samples\": [\n          -0.918744510082743,\n          0.913689505824262,\n          -0.964928665192825\n        ],\n        \"semantic_type\": \"\",\n        \"description\": \"\"\n      }\n    },\n    {\n      \"column\": \"pd qcut1\",\n      \"properties\": {\n        \"dtype\": \"number\",\n        \"std\": 0,\n        \"min\": 0,\n        \"max\": 1,\n        \"num_unique_values\": 2,\n        \"samples\": [\n          0,\n          1\n        ],\n        \"semantic_type\": \"\",\n        \"description\": \"\"\n      }\n    },\n    {\n      \"column\": \"correlated w target 2\",\n      \"properties\": {\n        \"dtype\": \"number\",\n        \"std\": 0.9423077334147167,\n        \"min\": 0.7078150805651282,\n        \"max\": 3.212151722785542,\n        \"num_unique_values\": 5,\n        \"samples\": [\n          1.5730235260608028,\n          2.1763920198293567\n        ],\n        \"semantic_type\": \"\",\n        \"description\": \"\"\n      }\n    }\n  ]\n}"
            }
          },
          "metadata": {},
          "execution_count": 68
=======
              "summary": "{\n  \"name\": \"X_train[features_to_model]\",\n  \"rows\": 5,\n  \"fields\": [\n    {\n      \"column\": \"target\",\n      \"properties\": {\n        \"dtype\": \"number\",\n        \"std\": 3.070946067366803,\n        \"min\": -3.052788836007142,\n        \"max\": 4.464222846874488,\n        \"num_unique_values\": 5,\n        \"samples\": [\n          4.464222846874488,\n          0.9936509884193868,\n          -0.1221012248318036\n        ],\n        \"semantic_type\": \"\",\n        \"description\": \"\"\n      }\n    },\n    {\n      \"column\": \"uniform corr 1\",\n      \"properties\": {\n        \"dtype\": \"number\",\n        \"std\": 0.2745155470766993,\n        \"min\": 0.2356592973722885,\n        \"max\": 0.9135615652264012,\n        \"num_unique_values\": 5,\n        \"samples\": [\n          0.7504773444749202,\n          0.9135615652264012,\n          0.4079957711776252\n        ],\n        \"semantic_type\": \"\",\n        \"description\": \"\"\n      }\n    },\n    {\n      \"column\": \"duplicate_2\",\n      \"properties\": {\n        \"dtype\": \"number\",\n        \"std\": 1.6260020589062185,\n        \"min\": -1.8022906624445567,\n        \"max\": 2.292819442555727,\n        \"num_unique_values\": 5,\n        \"samples\": [\n          2.292819442555727,\n          0.3834070857675771,\n          -0.1614700468020915\n        ],\n        \"semantic_type\": \"\",\n        \"description\": \"\"\n      }\n    },\n    {\n      \"column\": \"pd qcut3\",\n      \"properties\": {\n        \"dtype\": \"number\",\n        \"std\": 0.05028916384272063,\n        \"min\": 0.097,\n        \"max\": 0.193,\n        \"num_unique_values\": 4,\n        \"samples\": [\n          0.193,\n          0.185,\n          0.097\n        ],\n        \"semantic_type\": \"\",\n        \"description\": \"\"\n      }\n    }\n  ]\n}"
            }
          },
          "metadata": {},
          "execution_count": 98
>>>>>>> 3baf2be7218ba1b843824d2357c883b42d642797
        }
      ]
    },
    {
      "cell_type": "code",
      "source": [
        "new_column_names = {rfi[0]: 'watch_time', rfi[1]: 'avg_view_duration', rfi[2]: 'click_through_rate', rfi[3]: 'interest'}\n",
        "X_train.rename(columns=new_column_names, inplace=True)\n",
        "X_test.rename(columns=new_column_names, inplace=True)\n",
        "features_to_model = list(new_column_names.values())\n",
        "X_train = X_train[features_to_model]\n",
        "X_test = X_test[features_to_model]"
      ],
      "metadata": {
        "id": "2PpQyIprnD6_"
      },
      "execution_count": null,
      "outputs": []
    },
    {
      "cell_type": "code",
      "execution_count": null,
      "metadata": {
        "id": "NrIdASGK3LCx"
      },
      "outputs": [],
      "source": [
        "import pickle\n",
        "\n",
        "# Save the data\n",
        "with open('train_test_split.pkl', 'wb') as f:\n",
        "    pickle.dump([X_train, X_test, y_train, y_test], f)"
      ]
    },
    {
      "cell_type": "code",
      "source": [
        "import shutil\n",
        "\n",
        "# Source file path (within your Drive)\n",
        "source_file = 'train_test_split.pkl'\n",
        "\n",
        "# Destination path (root of your Drive)\n",
        "destination_path = '/content/drive/MyDrive/Colab Notebooks/train_test_split.pkl'\n",
        "\n",
        "# Copy the file\n",
        "shutil.copy(source_file, destination_path)"
      ],
      "metadata": {
        "colab": {
          "base_uri": "https://localhost:8080/",
<<<<<<< HEAD
          "height": 35
        },
        "id": "NSgcg1LLCFtB",
        "outputId": "aeac5040-785f-4ebf-daf4-d77060a81541"
=======
          "height": 36
        },
        "id": "NSgcg1LLCFtB",
        "outputId": "14a9ad25-8e7f-4447-c29e-f8e00f87b76b"
>>>>>>> 3baf2be7218ba1b843824d2357c883b42d642797
      },
      "execution_count": null,
      "outputs": [
        {
          "output_type": "execute_result",
          "data": {
            "text/plain": [
              "'/content/drive/MyDrive/Colab Notebooks/train_test_split.pkl'"
            ],
            "application/vnd.google.colaboratory.intrinsic+json": {
              "type": "string"
            }
          },
          "metadata": {},
<<<<<<< HEAD
          "execution_count": 72
=======
          "execution_count": 102
>>>>>>> 3baf2be7218ba1b843824d2357c883b42d642797
        }
      ]
    }
  ]
}